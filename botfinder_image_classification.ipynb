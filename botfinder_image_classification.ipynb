{
  "nbformat": 4,
  "nbformat_minor": 0,
  "metadata": {
    "colab": {
      "name": "botfinder_image_classification.ipynb",
      "provenance": [],
      "collapsed_sections": []
    },
    "kernelspec": {
      "name": "python3",
      "display_name": "Python 3"
    },
    "language_info": {
      "name": "python"
    }
  },
  "cells": [
    {
      "cell_type": "markdown",
      "source": [
        "# Process for Creating an Image Classifier"
      ],
      "metadata": {
        "id": "wYFrgV8npno8"
      }
    },
    {
      "cell_type": "markdown",
      "source": [
        "# Import libraries"
      ],
      "metadata": {
        "id": "K9vStTKwmO2M"
      }
    },
    {
      "cell_type": "code",
      "execution_count": null,
      "metadata": {
        "id": "OCNqEshMlKR1"
      },
      "outputs": [],
      "source": [
        "import matplotlib.pyplot as plt\n",
        "import numpy as np\n",
        "import os\n",
        "import PIL\n",
        "import tensorflow as tf\n",
        "\n",
        "from tensorflow import keras\n",
        "from tensorflow.keras import layers\n",
        "from tensorflow.keras.models import Sequential"
      ]
    },
    {
      "cell_type": "markdown",
      "source": [
        "# Upload Dataset"
      ],
      "metadata": {
        "id": "2ujCCxUUraja"
      }
    },
    {
      "cell_type": "markdown",
      "source": [
        "1. Upload *profile_images.zip* to the `/content` directory.\n",
        "2. Run the cell below to unzip and remove.\n",
        "3. Set directory for dataset and verify size."
      ],
      "metadata": {
        "id": "PviAbC5vr-Ah"
      }
    },
    {
      "cell_type": "code",
      "source": [
        "!unzip profile_images.zip\n",
        "!rm profile_images.zip"
      ],
      "metadata": {
        "id": "zfSsSxN0vXge"
      },
      "execution_count": null,
      "outputs": []
    },
    {
      "cell_type": "code",
      "source": [
        "import pathlib\n",
        "\n",
        "data_dir = pathlib.Path(\"/content/profile_images\")\n",
        "image_count = len(list(data_dir.glob('*/*.png')))\n",
        "print(image_count)\n"
      ],
      "metadata": {
        "colab": {
          "base_uri": "https://localhost:8080/"
        },
        "id": "rpgtdH7Hnl1a",
        "outputId": "b255d1a1-9add-4812-9d56-251ff8fe6f23"
      },
      "execution_count": null,
      "outputs": [
        {
          "output_type": "stream",
          "name": "stdout",
          "text": [
            "307\n"
          ]
        }
      ]
    },
    {
      "cell_type": "markdown",
      "source": [
        "# Set Up Dataset"
      ],
      "metadata": {
        "id": "dW55ZpP1x0xp"
      }
    },
    {
      "cell_type": "markdown",
      "metadata": {
        "id": "anqiK_AGI086"
      },
      "source": [
        "Define some parameters for loading in the dataset.\n",
        "Try changing batch_size to improve accuracy (original is 32).\n",
        "Original image sizes are over 300x300. Size was set to 300x300 when loading\n",
        "."
      ]
    },
    {
      "cell_type": "code",
      "execution_count": null,
      "metadata": {
        "id": "H74l2DoDI2XD"
      },
      "outputs": [],
      "source": [
        "batch_size = 32\n",
        "img_height = 300\n",
        "img_width = 300"
      ]
    },
    {
      "cell_type": "markdown",
      "source": [
        "Split the data 80-20 for training and validation."
      ],
      "metadata": {
        "id": "ALIOyIPLzYE6"
      }
    },
    {
      "cell_type": "code",
      "execution_count": null,
      "metadata": {
        "id": "fIR0kRZiI_AT",
        "colab": {
          "base_uri": "https://localhost:8080/"
        },
        "outputId": "072ec02c-f4b5-49e7-820e-d616806647f9"
      },
      "outputs": [
        {
          "output_type": "stream",
          "name": "stdout",
          "text": [
            "Found 307 files belonging to 2 classes.\n",
            "Using 246 files for training.\n"
          ]
        }
      ],
      "source": [
        "train_ds = tf.keras.utils.image_dataset_from_directory(\n",
        "  data_dir,\n",
        "  validation_split=0.2,\n",
        "  subset=\"training\",\n",
        "  seed=123,\n",
        "  image_size=(img_height, img_width),\n",
        "  batch_size=batch_size)"
      ]
    },
    {
      "cell_type": "code",
      "execution_count": null,
      "metadata": {
        "id": "iscU3UoVJBXj",
        "colab": {
          "base_uri": "https://localhost:8080/"
        },
        "outputId": "f033e294-0cbe-4957-c407-5378892b2ffb"
      },
      "outputs": [
        {
          "output_type": "stream",
          "name": "stdout",
          "text": [
            "Found 307 files belonging to 2 classes.\n",
            "Using 61 files for validation.\n"
          ]
        }
      ],
      "source": [
        "val_ds = tf.keras.utils.image_dataset_from_directory(\n",
        "  data_dir,\n",
        "  validation_split=0.2,\n",
        "  subset=\"validation\",\n",
        "  seed=123,\n",
        "  image_size=(img_height, img_width),\n",
        "  batch_size=batch_size)"
      ]
    },
    {
      "cell_type": "markdown",
      "source": [
        "Check the class names of the dataset. They should respond to directory names."
      ],
      "metadata": {
        "id": "2xJnNO2bzlTt"
      }
    },
    {
      "cell_type": "code",
      "source": [
        "class_names = train_ds.class_names\n",
        "print(class_names)"
      ],
      "metadata": {
        "colab": {
          "base_uri": "https://localhost:8080/"
        },
        "id": "j3iJx9yjzow3",
        "outputId": "c50106df-cb2d-461e-a36e-ddfd1b4dd1c2"
      },
      "execution_count": null,
      "outputs": [
        {
          "output_type": "stream",
          "name": "stdout",
          "text": [
            "['bots', 'people']\n"
          ]
        }
      ]
    },
    {
      "cell_type": "markdown",
      "source": [
        "Run the next cell to view the first 9 images of the training set. This cell is OPTIONAL.\n",
        "\n",
        "WARNING: The nature of some of the images are explicit! View at your own discretion!"
      ],
      "metadata": {
        "id": "Q8EQ67sE1EsH"
      }
    },
    {
      "cell_type": "code",
      "execution_count": null,
      "metadata": {
        "id": "wBmEA9c0JYes"
      },
      "outputs": [],
      "source": [
        "import matplotlib.pyplot as plt\n",
        "\n",
        "plt.figure(figsize=(10, 10))\n",
        "for images, labels in train_ds.take(1):\n",
        "  for i in range(9):\n",
        "    ax = plt.subplot(3, 3, i + 1)\n",
        "    plt.imshow(images[i].numpy().astype(\"uint8\"))\n",
        "    plt.title(class_names[labels[i]])\n",
        "    plt.axis(\"off\")"
      ]
    },
    {
      "cell_type": "markdown",
      "source": [
        "The next cell configures the dataset for performance.\n",
        "Methods when loading data:\n",
        "\n",
        "`Dataset.cache` keeps the images in memory after they're loaded off disk during the first epoch. This will ensure the dataset does not become a bottleneck while training your model. If your dataset is too large to fit into memory, you can also use this method to create a performant on-disk cache.\n",
        "\n",
        "`Dataset.prefetch` overlaps data preprocessing and model execution while training."
      ],
      "metadata": {
        "id": "Jcqgflr42K2b"
      }
    },
    {
      "cell_type": "code",
      "source": [
        "AUTOTUNE = tf.data.AUTOTUNE\n",
        "\n",
        "train_ds = train_ds.cache().shuffle(1000).prefetch(buffer_size=AUTOTUNE)\n",
        "val_ds = val_ds.cache().prefetch(buffer_size=AUTOTUNE)"
      ],
      "metadata": {
        "id": "TuFhaR4v2gMw"
      },
      "execution_count": null,
      "outputs": []
    },
    {
      "cell_type": "markdown",
      "source": [
        "# Set Up the Model"
      ],
      "metadata": {
        "id": "o5UjPHJ27FSP"
      }
    },
    {
      "cell_type": "markdown",
      "source": [
        "The Sequential model consists of three convolution blocks (`tf.keras.layers.Conv2D`) with a max pooling layer (`tf.keras.layers.MaxPooling2D`) in each of them. There's a fully-connected layer (`tf.keras.layers.Dense`) with 128 units on top of it that is activated by a ReLU activation function ('relu'). \n",
        "\n",
        "The RGB channel values are in the [0, 255] range. This is not ideal for a neural network; in general input values should be small. Standardize values to be in the [0, 1] range by using `tf.keras.layers.Rescaling` for the first layer."
      ],
      "metadata": {
        "id": "oGzz_W3b75-K"
      }
    },
    {
      "cell_type": "code",
      "execution_count": null,
      "metadata": {
        "id": "QR6argA1K074"
      },
      "outputs": [],
      "source": [
        "num_classes = len(class_names)\n",
        "\n",
        "model = Sequential([\n",
        "  layers.Rescaling(1./255, input_shape=(img_height, img_width, 3)),\n",
        "  layers.Conv2D(16, 3, padding='same', activation='relu'),\n",
        "  layers.MaxPooling2D(),\n",
        "  layers.Conv2D(32, 3, padding='same', activation='relu'),\n",
        "  layers.MaxPooling2D(),\n",
        "  layers.Conv2D(64, 3, padding='same', activation='relu'),\n",
        "  layers.MaxPooling2D(),\n",
        "  layers.Flatten(),\n",
        "  layers.Dense(128, activation='relu'),\n",
        "  layers.Dense(num_classes)\n",
        "])"
      ]
    },
    {
      "cell_type": "markdown",
      "source": [
        "For this tutorial, choose the `tf.keras.optimizers.Adam` optimizer and `tf.keras.losses.SparseCategoricalCrossentropy` loss function. To view training and validation accuracy for each training epoch, pass the metrics argument to `Model.compile`."
      ],
      "metadata": {
        "id": "vqqrwNUbSpMM"
      }
    },
    {
      "cell_type": "code",
      "source": [
        "model.compile(optimizer='adam',\n",
        "              loss=tf.keras.losses.SparseCategoricalCrossentropy(from_logits=True),\n",
        "              metrics=['accuracy'])"
      ],
      "metadata": {
        "id": "EWUonxIgS0A3"
      },
      "execution_count": null,
      "outputs": []
    },
    {
      "cell_type": "markdown",
      "source": [
        "View all the layers of the network using the model's `Model.summary` method:"
      ],
      "metadata": {
        "id": "_TrKI-vLTDi5"
      }
    },
    {
      "cell_type": "code",
      "execution_count": null,
      "metadata": {
        "id": "llLYH-BXL7Xe",
        "colab": {
          "base_uri": "https://localhost:8080/"
        },
        "outputId": "d6509567-d7af-4e62-f730-4f16ffa59c89"
      },
      "outputs": [
        {
          "output_type": "stream",
          "name": "stdout",
          "text": [
            "Model: \"sequential_2\"\n",
            "_________________________________________________________________\n",
            " Layer (type)                Output Shape              Param #   \n",
            "=================================================================\n",
            " rescaling_2 (Rescaling)     (None, 300, 300, 3)       0         \n",
            "                                                                 \n",
            " conv2d_6 (Conv2D)           (None, 300, 300, 16)      448       \n",
            "                                                                 \n",
            " max_pooling2d_6 (MaxPooling  (None, 150, 150, 16)     0         \n",
            " 2D)                                                             \n",
            "                                                                 \n",
            " conv2d_7 (Conv2D)           (None, 150, 150, 32)      4640      \n",
            "                                                                 \n",
            " max_pooling2d_7 (MaxPooling  (None, 75, 75, 32)       0         \n",
            " 2D)                                                             \n",
            "                                                                 \n",
            " conv2d_8 (Conv2D)           (None, 75, 75, 64)        18496     \n",
            "                                                                 \n",
            " max_pooling2d_8 (MaxPooling  (None, 37, 37, 64)       0         \n",
            " 2D)                                                             \n",
            "                                                                 \n",
            " flatten_2 (Flatten)         (None, 87616)             0         \n",
            "                                                                 \n",
            " dense_4 (Dense)             (None, 128)               11214976  \n",
            "                                                                 \n",
            " dense_5 (Dense)             (None, 2)                 258       \n",
            "                                                                 \n",
            "=================================================================\n",
            "Total params: 11,238,818\n",
            "Trainable params: 11,238,818\n",
            "Non-trainable params: 0\n",
            "_________________________________________________________________\n"
          ]
        }
      ],
      "source": [
        "model.summary()"
      ]
    },
    {
      "cell_type": "markdown",
      "source": [
        "# Training the Model"
      ],
      "metadata": {
        "id": "iSxrqXuK7_kH"
      }
    },
    {
      "cell_type": "markdown",
      "source": [
        "The next section trains and saves a series of models to find one that performs well.\n",
        "\n"
      ],
      "metadata": {
        "id": "-UCf3D7WuJjA"
      }
    },
    {
      "cell_type": "code",
      "source": [
        "%mkdir training_1 training_2 training_3 training_4 # Creates the directories for saving the models."
      ],
      "metadata": {
        "colab": {
          "base_uri": "https://localhost:8080/"
        },
        "id": "0c7Em7M3CzOH",
        "outputId": "3f6f6359-c9b3-4875-a0b5-c6df4945f507"
      },
      "execution_count": null,
      "outputs": [
        {
          "output_type": "stream",
          "name": "stdout",
          "text": [
            "mkdir: cannot create directory ‘training_1’: File exists\n",
            "mkdir: cannot create directory ‘training_2’: File exists\n",
            "mkdir: cannot create directory ‘training_3’: File exists\n",
            "mkdir: cannot create directory ‘training_4’: File exists\n"
          ]
        }
      ]
    },
    {
      "cell_type": "code",
      "execution_count": null,
      "metadata": {
        "id": "5fWToCqYMErH",
        "colab": {
          "base_uri": "https://localhost:8080/"
        },
        "outputId": "2f0d2eb3-cd95-41b2-a101-60187ce85c00"
      },
      "outputs": [
        {
          "output_type": "stream",
          "name": "stdout",
          "text": [
            "Epoch 1/15\n",
            "8/8 [==============================] - ETA: 0s - loss: 1.8855 - accuracy: 0.5163\n",
            "Epoch 1: saving model to training_1/cp.ckpt\n",
            "8/8 [==============================] - 24s 3s/step - loss: 1.8855 - accuracy: 0.5163 - val_loss: 0.6945 - val_accuracy: 0.5410\n",
            "Epoch 2/15\n",
            "8/8 [==============================] - ETA: 0s - loss: 0.6826 - accuracy: 0.5772\n",
            "Epoch 2: saving model to training_1/cp.ckpt\n",
            "8/8 [==============================] - 21s 3s/step - loss: 0.6826 - accuracy: 0.5772 - val_loss: 0.7607 - val_accuracy: 0.4590\n",
            "Epoch 3/15\n",
            "8/8 [==============================] - ETA: 0s - loss: 0.7296 - accuracy: 0.5285\n",
            "Epoch 3: saving model to training_1/cp.ckpt\n",
            "8/8 [==============================] - 20s 3s/step - loss: 0.7296 - accuracy: 0.5285 - val_loss: 0.6894 - val_accuracy: 0.5082\n",
            "Epoch 4/15\n",
            "8/8 [==============================] - ETA: 0s - loss: 0.6791 - accuracy: 0.5732\n",
            "Epoch 4: saving model to training_1/cp.ckpt\n",
            "8/8 [==============================] - 21s 3s/step - loss: 0.6791 - accuracy: 0.5732 - val_loss: 0.6916 - val_accuracy: 0.4754\n",
            "Epoch 5/15\n",
            "8/8 [==============================] - ETA: 0s - loss: 0.6592 - accuracy: 0.6016\n",
            "Epoch 5: saving model to training_1/cp.ckpt\n",
            "8/8 [==============================] - 20s 3s/step - loss: 0.6592 - accuracy: 0.6016 - val_loss: 0.6812 - val_accuracy: 0.5410\n",
            "Epoch 6/15\n",
            "8/8 [==============================] - ETA: 0s - loss: 0.6216 - accuracy: 0.6463\n",
            "Epoch 6: saving model to training_1/cp.ckpt\n",
            "8/8 [==============================] - 21s 3s/step - loss: 0.6216 - accuracy: 0.6463 - val_loss: 0.6449 - val_accuracy: 0.6066\n",
            "Epoch 7/15\n",
            "8/8 [==============================] - ETA: 0s - loss: 0.5626 - accuracy: 0.7276\n",
            "Epoch 7: saving model to training_1/cp.ckpt\n",
            "8/8 [==============================] - 21s 3s/step - loss: 0.5626 - accuracy: 0.7276 - val_loss: 0.6615 - val_accuracy: 0.6721\n",
            "Epoch 8/15\n",
            "8/8 [==============================] - ETA: 0s - loss: 0.4823 - accuracy: 0.8008\n",
            "Epoch 8: saving model to training_1/cp.ckpt\n",
            "8/8 [==============================] - 21s 3s/step - loss: 0.4823 - accuracy: 0.8008 - val_loss: 0.6460 - val_accuracy: 0.6721\n",
            "Epoch 9/15\n",
            "8/8 [==============================] - ETA: 0s - loss: 0.3852 - accuracy: 0.8211\n",
            "Epoch 9: saving model to training_1/cp.ckpt\n",
            "8/8 [==============================] - 21s 3s/step - loss: 0.3852 - accuracy: 0.8211 - val_loss: 0.6775 - val_accuracy: 0.6393\n",
            "Epoch 10/15\n",
            "8/8 [==============================] - ETA: 0s - loss: 0.3032 - accuracy: 0.8699\n",
            "Epoch 10: saving model to training_1/cp.ckpt\n",
            "8/8 [==============================] - 21s 3s/step - loss: 0.3032 - accuracy: 0.8699 - val_loss: 0.7429 - val_accuracy: 0.6393\n",
            "Epoch 11/15\n",
            "8/8 [==============================] - ETA: 0s - loss: 0.2247 - accuracy: 0.9390\n",
            "Epoch 11: saving model to training_1/cp.ckpt\n",
            "8/8 [==============================] - 20s 3s/step - loss: 0.2247 - accuracy: 0.9390 - val_loss: 0.7417 - val_accuracy: 0.6721\n",
            "Epoch 12/15\n",
            "8/8 [==============================] - ETA: 0s - loss: 0.1606 - accuracy: 0.9675\n",
            "Epoch 12: saving model to training_1/cp.ckpt\n",
            "8/8 [==============================] - 21s 3s/step - loss: 0.1606 - accuracy: 0.9675 - val_loss: 1.0363 - val_accuracy: 0.6557\n",
            "Epoch 13/15\n",
            "8/8 [==============================] - ETA: 0s - loss: 0.1418 - accuracy: 0.9350\n",
            "Epoch 13: saving model to training_1/cp.ckpt\n",
            "8/8 [==============================] - 21s 3s/step - loss: 0.1418 - accuracy: 0.9350 - val_loss: 1.0556 - val_accuracy: 0.6393\n",
            "Epoch 14/15\n",
            "8/8 [==============================] - ETA: 0s - loss: 0.0963 - accuracy: 0.9878\n",
            "Epoch 14: saving model to training_1/cp.ckpt\n",
            "8/8 [==============================] - 20s 3s/step - loss: 0.0963 - accuracy: 0.9878 - val_loss: 0.9596 - val_accuracy: 0.7213\n",
            "Epoch 15/15\n",
            "8/8 [==============================] - ETA: 0s - loss: 0.0507 - accuracy: 0.9878\n",
            "Epoch 15: saving model to training_1/cp.ckpt\n",
            "8/8 [==============================] - 20s 3s/step - loss: 0.0507 - accuracy: 0.9878 - val_loss: 1.0888 - val_accuracy: 0.7541\n"
          ]
        }
      ],
      "source": [
        "checkpoint_path = \"training_1/cp.ckpt\"\n",
        "checkpoint_dir = os.path.dirname(checkpoint_path)\n",
        "\n",
        "# Create a callback that saves the model's weights\n",
        "cp_callback = tf.keras.callbacks.ModelCheckpoint(filepath=checkpoint_path, save_weights_only=True, verbose=1)\n",
        "\n",
        "epochs=15\n",
        "history = model.fit(\n",
        "  train_ds,\n",
        "  validation_data=val_ds,\n",
        "  epochs=epochs,\n",
        "  callbacks=[cp_callback]\n",
        ")"
      ]
    },
    {
      "cell_type": "markdown",
      "metadata": {
        "id": "dFvOvmAmMK9w"
      },
      "source": [
        "Create plots of loss and accuracy on the training and validation sets:"
      ]
    },
    {
      "cell_type": "code",
      "execution_count": null,
      "metadata": {
        "id": "jWnopEChMMCn",
        "colab": {
          "base_uri": "https://localhost:8080/",
          "height": 499
        },
        "outputId": "93aef488-9051-49b4-a8fd-dba0d969403b"
      },
      "outputs": [
        {
          "output_type": "display_data",
          "data": {
            "text/plain": [
              "<Figure size 576x576 with 2 Axes>"
            ],
            "image/png": "[encoded data removed]"
          },
          "metadata": {
            "needs_background": "light"
          }
        }
      ],
      "source": [
        "acc = history.history['accuracy']\n",
        "val_acc = history.history['val_accuracy']\n",
        "\n",
        "loss = history.history['loss']\n",
        "val_loss = history.history['val_loss']\n",
        "\n",
        "epochs_range = range(epochs)\n",
        "\n",
        "plt.figure(figsize=(8, 8))\n",
        "plt.subplot(1, 2, 1)\n",
        "plt.plot(epochs_range, acc, label='Training Accuracy')\n",
        "plt.plot(epochs_range, val_acc, label='Validation Accuracy')\n",
        "plt.legend(loc='lower right')\n",
        "plt.title('Training and Validation Accuracy')\n",
        "\n",
        "plt.subplot(1, 2, 2)\n",
        "plt.plot(epochs_range, loss, label='Training Loss')\n",
        "plt.plot(epochs_range, val_loss, label='Validation Loss')\n",
        "plt.legend(loc='upper right')\n",
        "plt.title('Training and Validation Loss')\n",
        "plt.show()"
      ]
    },
    {
      "cell_type": "markdown",
      "source": [
        "Overfitting generally occurs if there is a small number of training images. We have 246 images which is pretty small. A solution is data augmentation, which generates additional training data from the existing set by augmenting them using random transformations that yield similar images."
      ],
      "metadata": {
        "id": "sl2l-eLD49zq"
      }
    },
    {
      "cell_type": "code",
      "execution_count": null,
      "metadata": {
        "id": "9J80BAbIMs21"
      },
      "outputs": [],
      "source": [
        "data_augmentation = keras.Sequential(\n",
        "  [\n",
        "    layers.RandomFlip(\"horizontal\",\n",
        "                      input_shape=(img_height,\n",
        "                                  img_width,\n",
        "                                  3)),\n",
        "    layers.RandomRotation(0.1),\n",
        "  ]\n",
        ")"
      ]
    },
    {
      "cell_type": "markdown",
      "source": [
        "Another technique to reduce overfitting is to introduce dropout regularization to the network.\n",
        "\n",
        "A dropout layer randomly drops out (by setting the activation to zero) a number of output units from the layer during the training process. Dropout takes a fractional number as its input value, in the form such as 0.1, 0.2, 0.4, etc. The original value is 0.2, but this can be tweaked to better adjust the model.\n",
        "\n",
        "The third model is a new neural network with `tf.keras.layers.Dropout` before training it using the augmented images."
      ],
      "metadata": {
        "id": "j1pGLNKF62yy"
      }
    },
    {
      "cell_type": "code",
      "execution_count": null,
      "metadata": {
        "id": "2Zeg8zsqXCsm",
        "colab": {
          "base_uri": "https://localhost:8080/"
        },
        "outputId": "5d4414a8-3059-4bba-88e0-a868a7dfe94a"
      },
      "outputs": [
        {
          "output_type": "stream",
          "name": "stdout",
          "text": [
            "Epoch 1/15\n",
            "8/8 [==============================] - ETA: 0s - loss: 3.4392 - accuracy: 0.5000\n",
            "Epoch 1: saving model to training_2/cp.ckpt\n",
            "8/8 [==============================] - 26s 3s/step - loss: 3.4392 - accuracy: 0.5000 - val_loss: 0.7267 - val_accuracy: 0.5410\n",
            "Epoch 2/15\n",
            "8/8 [==============================] - ETA: 0s - loss: 0.7138 - accuracy: 0.4837\n",
            "Epoch 2: saving model to training_2/cp.ckpt\n",
            "8/8 [==============================] - 28s 3s/step - loss: 0.7138 - accuracy: 0.4837 - val_loss: 0.6958 - val_accuracy: 0.4590\n",
            "Epoch 3/15\n",
            "8/8 [==============================] - ETA: 0s - loss: 0.6826 - accuracy: 0.5528\n",
            "Epoch 3: saving model to training_2/cp.ckpt\n",
            "8/8 [==============================] - 23s 3s/step - loss: 0.6826 - accuracy: 0.5528 - val_loss: 0.6802 - val_accuracy: 0.5902\n",
            "Epoch 4/15\n",
            "8/8 [==============================] - ETA: 0s - loss: 0.6738 - accuracy: 0.5569\n",
            "Epoch 4: saving model to training_2/cp.ckpt\n",
            "8/8 [==============================] - 23s 3s/step - loss: 0.6738 - accuracy: 0.5569 - val_loss: 0.6958 - val_accuracy: 0.4918\n",
            "Epoch 5/15\n",
            "8/8 [==============================] - ETA: 0s - loss: 0.6481 - accuracy: 0.6260\n",
            "Epoch 5: saving model to training_2/cp.ckpt\n",
            "8/8 [==============================] - 23s 3s/step - loss: 0.6481 - accuracy: 0.6260 - val_loss: 0.6550 - val_accuracy: 0.6557\n",
            "Epoch 6/15\n",
            "8/8 [==============================] - ETA: 0s - loss: 0.6040 - accuracy: 0.7033\n",
            "Epoch 6: saving model to training_2/cp.ckpt\n",
            "8/8 [==============================] - 23s 3s/step - loss: 0.6040 - accuracy: 0.7033 - val_loss: 0.6484 - val_accuracy: 0.6557\n",
            "Epoch 7/15\n",
            "8/8 [==============================] - ETA: 0s - loss: 0.5796 - accuracy: 0.6829\n",
            "Epoch 7: saving model to training_2/cp.ckpt\n",
            "8/8 [==============================] - 23s 3s/step - loss: 0.5796 - accuracy: 0.6829 - val_loss: 0.7120 - val_accuracy: 0.6066\n",
            "Epoch 8/15\n",
            "8/8 [==============================] - ETA: 0s - loss: 0.5758 - accuracy: 0.6789\n",
            "Epoch 8: saving model to training_2/cp.ckpt\n",
            "8/8 [==============================] - 23s 3s/step - loss: 0.5758 - accuracy: 0.6789 - val_loss: 0.6476 - val_accuracy: 0.6066\n",
            "Epoch 9/15\n",
            "8/8 [==============================] - ETA: 0s - loss: 0.5337 - accuracy: 0.7602\n",
            "Epoch 9: saving model to training_2/cp.ckpt\n",
            "8/8 [==============================] - 23s 3s/step - loss: 0.5337 - accuracy: 0.7602 - val_loss: 0.6810 - val_accuracy: 0.7049\n",
            "Epoch 10/15\n",
            "8/8 [==============================] - ETA: 0s - loss: 0.5109 - accuracy: 0.7317\n",
            "Epoch 10: saving model to training_2/cp.ckpt\n",
            "8/8 [==============================] - 22s 3s/step - loss: 0.5109 - accuracy: 0.7317 - val_loss: 0.6840 - val_accuracy: 0.6885\n",
            "Epoch 11/15\n",
            "8/8 [==============================] - ETA: 0s - loss: 0.5051 - accuracy: 0.7602\n",
            "Epoch 11: saving model to training_2/cp.ckpt\n",
            "8/8 [==============================] - 23s 3s/step - loss: 0.5051 - accuracy: 0.7602 - val_loss: 0.7149 - val_accuracy: 0.6721\n",
            "Epoch 12/15\n",
            "8/8 [==============================] - ETA: 0s - loss: 0.4670 - accuracy: 0.7805\n",
            "Epoch 12: saving model to training_2/cp.ckpt\n",
            "8/8 [==============================] - 23s 3s/step - loss: 0.4670 - accuracy: 0.7805 - val_loss: 0.7475 - val_accuracy: 0.6393\n",
            "Epoch 13/15\n",
            "8/8 [==============================] - ETA: 0s - loss: 0.4467 - accuracy: 0.7764\n",
            "Epoch 13: saving model to training_2/cp.ckpt\n",
            "8/8 [==============================] - 26s 3s/step - loss: 0.4467 - accuracy: 0.7764 - val_loss: 0.7118 - val_accuracy: 0.6721\n",
            "Epoch 14/15\n",
            "8/8 [==============================] - ETA: 0s - loss: 0.4256 - accuracy: 0.8049\n",
            "Epoch 14: saving model to training_2/cp.ckpt\n",
            "8/8 [==============================] - 23s 3s/step - loss: 0.4256 - accuracy: 0.8049 - val_loss: 0.8267 - val_accuracy: 0.6557\n",
            "Epoch 15/15\n",
            "8/8 [==============================] - ETA: 0s - loss: 0.4676 - accuracy: 0.7927\n",
            "Epoch 15: saving model to training_2/cp.ckpt\n",
            "8/8 [==============================] - 23s 3s/step - loss: 0.4676 - accuracy: 0.7927 - val_loss: 0.8310 - val_accuracy: 0.6721\n"
          ]
        }
      ],
      "source": [
        "model2 = Sequential([\n",
        "  data_augmentation,\n",
        "  layers.Rescaling(1./255),\n",
        "  layers.Conv2D(16, 3, padding='same', activation='relu'),\n",
        "  layers.MaxPooling2D(),\n",
        "  layers.Conv2D(32, 3, padding='same', activation='relu'),\n",
        "  layers.MaxPooling2D(),\n",
        "  layers.Conv2D(64, 3, padding='same', activation='relu'),\n",
        "  layers.MaxPooling2D(),\n",
        "  layers.Dropout(0.2),\n",
        "  layers.Flatten(),\n",
        "  layers.Dense(128, activation='relu'),\n",
        "  layers.Dense(num_classes)\n",
        "])\n",
        "\n",
        "model2.compile(optimizer='adam',\n",
        "              loss=tf.keras.losses.SparseCategoricalCrossentropy(from_logits=True),\n",
        "              metrics=['accuracy'])\n",
        "\n",
        "checkpoint_path = \"training_2/cp.ckpt\"\n",
        "checkpoint_dir = os.path.dirname(checkpoint_path)\n",
        "\n",
        "cp_callback = tf.keras.callbacks.ModelCheckpoint(filepath=checkpoint_path, save_weights_only=True, verbose=1)\n",
        "\n",
        "epochs2 = 15\n",
        "history2 = model2.fit(\n",
        "  train_ds,\n",
        "  validation_data=val_ds,\n",
        "  epochs=epochs2,\n",
        "  callbacks=[cp_callback]\n",
        ")"
      ]
    },
    {
      "cell_type": "code",
      "execution_count": null,
      "metadata": {
        "id": "dduoLfKsZVIA",
        "colab": {
          "base_uri": "https://localhost:8080/",
          "height": 499
        },
        "outputId": "6e915328-5669-4d14-af9c-bea3a3d84947"
      },
      "outputs": [
        {
          "output_type": "display_data",
          "data": {
            "text/plain": [
              "<Figure size 576x576 with 2 Axes>"
            ],
            "image/png": "[encoded data removed]"
          },
          "metadata": {
            "needs_background": "light"
          }
        }
      ],
      "source": [
        "acc = history2.history['accuracy']\n",
        "val_acc = history2.history['val_accuracy']\n",
        "\n",
        "loss = history2.history['loss']\n",
        "val_loss = history2.history['val_loss']\n",
        "\n",
        "epochs_range = range(epochs2)\n",
        "\n",
        "plt.figure(figsize=(8, 8))\n",
        "plt.subplot(1, 2, 1)\n",
        "plt.plot(epochs_range, acc, label='Training Accuracy')\n",
        "plt.plot(epochs_range, val_acc, label='Validation Accuracy')\n",
        "plt.legend(loc='lower right')\n",
        "plt.title('Training and Validation Accuracy')\n",
        "\n",
        "plt.subplot(1, 2, 2)\n",
        "plt.plot(epochs_range, loss, label='Training Loss')\n",
        "plt.plot(epochs_range, val_loss, label='Validation Loss')\n",
        "plt.legend(loc='upper right')\n",
        "plt.title('Training and Validation Loss')\n",
        "plt.show()"
      ]
    },
    {
      "cell_type": "markdown",
      "source": [
        "# Using the Trained Model"
      ],
      "metadata": {
        "id": "_PTJXsLWRXLM"
      }
    },
    {
      "cell_type": "code",
      "source": [
        "img_path = '/content/headshot.png'\n",
        "\n",
        "img = tf.keras.utils.load_img(\n",
        "    img_path, target_size=(300, 300)\n",
        ")\n",
        "img_array = tf.keras.utils.img_to_array(img)\n",
        "img_array = tf.expand_dims(img_array, 0) # Create a batch\n",
        "\n",
        "predictions = model.predict(img_array)\n",
        "score = tf.nn.softmax(predictions[0])\n",
        "\n",
        "print(\n",
        "    \"This image most likely belongs to {} with a {:.2f} percent confidence.\"\n",
        "    .format(class_names[np.argmax(score)], 100 * np.max(score))\n",
        ")\n",
        "\n",
        "result = class_names[np.argmax(score)]\n"
      ],
      "metadata": {
        "colab": {
          "base_uri": "https://localhost:8080/"
        },
        "id": "HG_uAXOJPFq_",
        "outputId": "ecf63022-549d-47c4-e4e9-8b01726d66ee"
      },
      "execution_count": null,
      "outputs": [
        {
          "output_type": "stream",
          "name": "stdout",
          "text": [
            "This image most likely belongs to people with a 62.96 percent confidence.\n",
            "people\n"
          ]
        }
      ]
    }
  ]
}